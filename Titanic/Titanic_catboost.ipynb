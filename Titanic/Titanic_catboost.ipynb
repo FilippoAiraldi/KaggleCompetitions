{
  "nbformat": 4,
  "nbformat_minor": 0,
  "metadata": {
    "colab": {
      "name": "Titanic",
      "provenance": [],
      "collapsed_sections": []
    },
    "kernelspec": {
      "name": "python3",
      "display_name": "Python 3"
    }
  },
  "cells": [
    {
      "cell_type": "markdown",
      "metadata": {
        "id": "B0O4kBqbLN0p"
      },
      "source": [
        "# Titanic Dataset Analysis via CatBoost\n",
        "Dataset: https://www.kaggle.com/c/titanic/overview <br>\n",
        "Inspired by: https://www.kaggle.com/pavlofesenko/simplest-top-10-titanic-0-80861/notebook"
      ]
    },
    {
      "cell_type": "code",
      "metadata": {
        "id": "mpm8btYSHYpO"
      },
      "source": [
        "!pip install -q kaggle\n",
        "\n",
        "import os \n",
        "os.environ['KAGGLE_USERNAME'] = \"filippoairaldi\"\n",
        "os.environ['KAGGLE_KEY'] = \"51aebb4dfedacca5d50c2ab359457daa\" \n",
        "\n",
        "!mkdir titanic_data\n",
        "!kaggle competitions download -c titanic -p titanic_data\n",
        "\n",
        "!pip install catboost\n",
        "import pandas as pd\n",
        "import catboost"
      ],
      "execution_count": null,
      "outputs": []
    },
    {
      "cell_type": "code",
      "metadata": {
        "id": "ikg0sfE7Zc25"
      },
      "source": [
        "def get_raw_data():\n",
        "    return pd.read_csv('titanic_data/train.csv'), pd.read_csv('titanic_data/test.csv')"
      ],
      "execution_count": 7,
      "outputs": []
    },
    {
      "cell_type": "markdown",
      "metadata": {
        "id": "ld4pghHBTiPh"
      },
      "source": [
        "## Modeling"
      ]
    },
    {
      "cell_type": "code",
      "metadata": {
        "colab": {
          "base_uri": "https://localhost:8080/",
          "height": 254
        },
        "id": "OHnaZcTPOulR",
        "outputId": "986b901b-6c8b-450a-835f-919646326927"
      },
      "source": [
        "def highlight(value): \n",
        "    return 'color: ' + ('green' if value >= 0.5 else 'red')\n",
        "\n",
        "train, test = get_raw_data()\n",
        "pd.pivot_table(train, values = 'Survived', index = ['Pclass', 'Embarked'], columns = 'Sex').style.applymap(highlight)"
      ],
      "execution_count": 8,
      "outputs": [
        {
          "output_type": "execute_result",
          "data": {
            "text/html": [
              "<style  type=\"text/css\" >\n",
              "#T_c08622b8_510e_11eb_943e_0242ac1c0002row0_col0,#T_c08622b8_510e_11eb_943e_0242ac1c0002row1_col0,#T_c08622b8_510e_11eb_943e_0242ac1c0002row2_col0,#T_c08622b8_510e_11eb_943e_0242ac1c0002row3_col0,#T_c08622b8_510e_11eb_943e_0242ac1c0002row4_col0,#T_c08622b8_510e_11eb_943e_0242ac1c0002row5_col0,#T_c08622b8_510e_11eb_943e_0242ac1c0002row6_col0,#T_c08622b8_510e_11eb_943e_0242ac1c0002row7_col0{\n",
              "            color:  green;\n",
              "        }#T_c08622b8_510e_11eb_943e_0242ac1c0002row0_col1,#T_c08622b8_510e_11eb_943e_0242ac1c0002row1_col1,#T_c08622b8_510e_11eb_943e_0242ac1c0002row2_col1,#T_c08622b8_510e_11eb_943e_0242ac1c0002row3_col1,#T_c08622b8_510e_11eb_943e_0242ac1c0002row4_col1,#T_c08622b8_510e_11eb_943e_0242ac1c0002row5_col1,#T_c08622b8_510e_11eb_943e_0242ac1c0002row6_col1,#T_c08622b8_510e_11eb_943e_0242ac1c0002row7_col1,#T_c08622b8_510e_11eb_943e_0242ac1c0002row8_col0,#T_c08622b8_510e_11eb_943e_0242ac1c0002row8_col1{\n",
              "            color:  red;\n",
              "        }</style><table id=\"T_c08622b8_510e_11eb_943e_0242ac1c0002\" ><thead>    <tr>        <th class=\"blank\" ></th>        <th class=\"index_name level0\" >Sex</th>        <th class=\"col_heading level0 col0\" >female</th>        <th class=\"col_heading level0 col1\" >male</th>    </tr>    <tr>        <th class=\"index_name level0\" >Pclass</th>        <th class=\"index_name level1\" >Embarked</th>        <th class=\"blank\" ></th>        <th class=\"blank\" ></th>    </tr></thead><tbody>\n",
              "                <tr>\n",
              "                        <th id=\"T_c08622b8_510e_11eb_943e_0242ac1c0002level0_row0\" class=\"row_heading level0 row0\" rowspan=3>1</th>\n",
              "                        <th id=\"T_c08622b8_510e_11eb_943e_0242ac1c0002level1_row0\" class=\"row_heading level1 row0\" >C</th>\n",
              "                        <td id=\"T_c08622b8_510e_11eb_943e_0242ac1c0002row0_col0\" class=\"data row0 col0\" >0.976744</td>\n",
              "                        <td id=\"T_c08622b8_510e_11eb_943e_0242ac1c0002row0_col1\" class=\"data row0 col1\" >0.404762</td>\n",
              "            </tr>\n",
              "            <tr>\n",
              "                                <th id=\"T_c08622b8_510e_11eb_943e_0242ac1c0002level1_row1\" class=\"row_heading level1 row1\" >Q</th>\n",
              "                        <td id=\"T_c08622b8_510e_11eb_943e_0242ac1c0002row1_col0\" class=\"data row1 col0\" >1.000000</td>\n",
              "                        <td id=\"T_c08622b8_510e_11eb_943e_0242ac1c0002row1_col1\" class=\"data row1 col1\" >0.000000</td>\n",
              "            </tr>\n",
              "            <tr>\n",
              "                                <th id=\"T_c08622b8_510e_11eb_943e_0242ac1c0002level1_row2\" class=\"row_heading level1 row2\" >S</th>\n",
              "                        <td id=\"T_c08622b8_510e_11eb_943e_0242ac1c0002row2_col0\" class=\"data row2 col0\" >0.958333</td>\n",
              "                        <td id=\"T_c08622b8_510e_11eb_943e_0242ac1c0002row2_col1\" class=\"data row2 col1\" >0.354430</td>\n",
              "            </tr>\n",
              "            <tr>\n",
              "                        <th id=\"T_c08622b8_510e_11eb_943e_0242ac1c0002level0_row3\" class=\"row_heading level0 row3\" rowspan=3>2</th>\n",
              "                        <th id=\"T_c08622b8_510e_11eb_943e_0242ac1c0002level1_row3\" class=\"row_heading level1 row3\" >C</th>\n",
              "                        <td id=\"T_c08622b8_510e_11eb_943e_0242ac1c0002row3_col0\" class=\"data row3 col0\" >1.000000</td>\n",
              "                        <td id=\"T_c08622b8_510e_11eb_943e_0242ac1c0002row3_col1\" class=\"data row3 col1\" >0.200000</td>\n",
              "            </tr>\n",
              "            <tr>\n",
              "                                <th id=\"T_c08622b8_510e_11eb_943e_0242ac1c0002level1_row4\" class=\"row_heading level1 row4\" >Q</th>\n",
              "                        <td id=\"T_c08622b8_510e_11eb_943e_0242ac1c0002row4_col0\" class=\"data row4 col0\" >1.000000</td>\n",
              "                        <td id=\"T_c08622b8_510e_11eb_943e_0242ac1c0002row4_col1\" class=\"data row4 col1\" >0.000000</td>\n",
              "            </tr>\n",
              "            <tr>\n",
              "                                <th id=\"T_c08622b8_510e_11eb_943e_0242ac1c0002level1_row5\" class=\"row_heading level1 row5\" >S</th>\n",
              "                        <td id=\"T_c08622b8_510e_11eb_943e_0242ac1c0002row5_col0\" class=\"data row5 col0\" >0.910448</td>\n",
              "                        <td id=\"T_c08622b8_510e_11eb_943e_0242ac1c0002row5_col1\" class=\"data row5 col1\" >0.154639</td>\n",
              "            </tr>\n",
              "            <tr>\n",
              "                        <th id=\"T_c08622b8_510e_11eb_943e_0242ac1c0002level0_row6\" class=\"row_heading level0 row6\" rowspan=3>3</th>\n",
              "                        <th id=\"T_c08622b8_510e_11eb_943e_0242ac1c0002level1_row6\" class=\"row_heading level1 row6\" >C</th>\n",
              "                        <td id=\"T_c08622b8_510e_11eb_943e_0242ac1c0002row6_col0\" class=\"data row6 col0\" >0.652174</td>\n",
              "                        <td id=\"T_c08622b8_510e_11eb_943e_0242ac1c0002row6_col1\" class=\"data row6 col1\" >0.232558</td>\n",
              "            </tr>\n",
              "            <tr>\n",
              "                                <th id=\"T_c08622b8_510e_11eb_943e_0242ac1c0002level1_row7\" class=\"row_heading level1 row7\" >Q</th>\n",
              "                        <td id=\"T_c08622b8_510e_11eb_943e_0242ac1c0002row7_col0\" class=\"data row7 col0\" >0.727273</td>\n",
              "                        <td id=\"T_c08622b8_510e_11eb_943e_0242ac1c0002row7_col1\" class=\"data row7 col1\" >0.076923</td>\n",
              "            </tr>\n",
              "            <tr>\n",
              "                                <th id=\"T_c08622b8_510e_11eb_943e_0242ac1c0002level1_row8\" class=\"row_heading level1 row8\" >S</th>\n",
              "                        <td id=\"T_c08622b8_510e_11eb_943e_0242ac1c0002row8_col0\" class=\"data row8 col0\" >0.375000</td>\n",
              "                        <td id=\"T_c08622b8_510e_11eb_943e_0242ac1c0002row8_col1\" class=\"data row8 col1\" >0.128302</td>\n",
              "            </tr>\n",
              "    </tbody></table>"
            ],
            "text/plain": [
              "<pandas.io.formats.style.Styler at 0x7f9b56787908>"
            ]
          },
          "metadata": {
            "tags": []
          },
          "execution_count": 8
        }
      ]
    },
    {
      "cell_type": "code",
      "metadata": {
        "id": "6Yrd4VFOUc-8"
      },
      "source": [
        "def split_data(train, test, features):\n",
        "    x_train = train[features].fillna('')\n",
        "    y_train = train['Survived']\n",
        "    x_test = test[features].fillna('')\n",
        "    return x_train, y_train, x_test\n",
        "\n",
        "def get_mdl(iters = 100):\n",
        "    # CatBoost will one-hot encode all the features with at most 4 categories.\n",
        "    # The remaining (like Surname, which has a lot of them) will be mean-encoded\n",
        "    # (and regularized via expanding mean)\n",
        "    return catboost.CatBoostClassifier(\n",
        "        one_hot_max_size = 4,\n",
        "        iterations = 100,\n",
        "        random_seed = 0,\n",
        "        verbose = False,\n",
        "        eval_metric = 'Accuracy',\n",
        "        loss_function = 'CrossEntropy'\n",
        "    )   \n",
        "\n",
        "def show_cv_score(pool, mdl, fold_cnt = 20):\n",
        "    cv_scores = catboost.cv(pool, mdl.get_params(), fold_count = 20, plot = False)\n",
        "    print('CV score:', cv_scores['test-Accuracy-mean'].values[-1])"
      ],
      "execution_count": 9,
      "outputs": []
    },
    {
      "cell_type": "code",
      "metadata": {
        "colab": {
          "base_uri": "https://localhost:8080/"
        },
        "id": "USYIiOluP8Ms",
        "outputId": "6dc0b183-2fbf-4a26-a773-85d39ac14529"
      },
      "source": [
        "x_train, y_train, _ = split_data(train, test, ['Sex', 'Pclass', 'Embarked'])\n",
        "\n",
        "mdl = get_mdl()\n",
        "\n",
        "pool = catboost.Pool(x_train, y_train, cat_features = [0, 2])\n",
        "show_cv_score(pool, mdl)"
      ],
      "execution_count": 10,
      "outputs": [
        {
          "output_type": "stream",
          "text": [
            "CV score: 0.8113636363636365\n"
          ],
          "name": "stdout"
        }
      ]
    },
    {
      "cell_type": "markdown",
      "metadata": {
        "id": "UjWHCgDkTlR7"
      },
      "source": [
        "### Adding Master feature\n"
      ]
    },
    {
      "cell_type": "code",
      "metadata": {
        "id": "4GJ_Wr1VTwl5",
        "colab": {
          "base_uri": "https://localhost:8080/",
          "height": 126
        },
        "outputId": "7414e714-a5f1-4a74-931c-07e548637098"
      },
      "source": [
        "def process_master(df_tr, df_te):\n",
        "    # Girl is not needed, since female have higher survival rate\n",
        "    df_tr['Master'] = (df_tr.Name.str.contains('Master.')).astype('int')\n",
        "    df_te['Master'] = (df_te.Name.str.contains('Master.')).astype('int')\n",
        "    return df_tr, df_te\n",
        "\n",
        "train, test = get_raw_data()\n",
        "train, test = process_master(train, test)\n",
        "\n",
        "pd.pivot_table(train, values = 'Survived', index = 'Pclass', columns = 'Master').style.applymap(highlight)"
      ],
      "execution_count": 11,
      "outputs": [
        {
          "output_type": "execute_result",
          "data": {
            "text/html": [
              "<style  type=\"text/css\" >\n",
              "#T_e260eb0c_510e_11eb_943e_0242ac1c0002row0_col0,#T_e260eb0c_510e_11eb_943e_0242ac1c0002row0_col1,#T_e260eb0c_510e_11eb_943e_0242ac1c0002row1_col1{\n",
              "            color:  green;\n",
              "        }#T_e260eb0c_510e_11eb_943e_0242ac1c0002row1_col0,#T_e260eb0c_510e_11eb_943e_0242ac1c0002row2_col0,#T_e260eb0c_510e_11eb_943e_0242ac1c0002row2_col1{\n",
              "            color:  red;\n",
              "        }</style><table id=\"T_e260eb0c_510e_11eb_943e_0242ac1c0002\" ><thead>    <tr>        <th class=\"index_name level0\" >Master</th>        <th class=\"col_heading level0 col0\" >0</th>        <th class=\"col_heading level0 col1\" >1</th>    </tr>    <tr>        <th class=\"index_name level0\" >Pclass</th>        <th class=\"blank\" ></th>        <th class=\"blank\" ></th>    </tr></thead><tbody>\n",
              "                <tr>\n",
              "                        <th id=\"T_e260eb0c_510e_11eb_943e_0242ac1c0002level0_row0\" class=\"row_heading level0 row0\" >1</th>\n",
              "                        <td id=\"T_e260eb0c_510e_11eb_943e_0242ac1c0002row0_col0\" class=\"data row0 col0\" >0.624413</td>\n",
              "                        <td id=\"T_e260eb0c_510e_11eb_943e_0242ac1c0002row0_col1\" class=\"data row0 col1\" >1.000000</td>\n",
              "            </tr>\n",
              "            <tr>\n",
              "                        <th id=\"T_e260eb0c_510e_11eb_943e_0242ac1c0002level0_row1\" class=\"row_heading level0 row1\" >2</th>\n",
              "                        <td id=\"T_e260eb0c_510e_11eb_943e_0242ac1c0002row1_col0\" class=\"data row1 col0\" >0.445714</td>\n",
              "                        <td id=\"T_e260eb0c_510e_11eb_943e_0242ac1c0002row1_col1\" class=\"data row1 col1\" >1.000000</td>\n",
              "            </tr>\n",
              "            <tr>\n",
              "                        <th id=\"T_e260eb0c_510e_11eb_943e_0242ac1c0002level0_row2\" class=\"row_heading level0 row2\" >3</th>\n",
              "                        <td id=\"T_e260eb0c_510e_11eb_943e_0242ac1c0002row2_col0\" class=\"data row2 col0\" >0.233261</td>\n",
              "                        <td id=\"T_e260eb0c_510e_11eb_943e_0242ac1c0002row2_col1\" class=\"data row2 col1\" >0.392857</td>\n",
              "            </tr>\n",
              "    </tbody></table>"
            ],
            "text/plain": [
              "<pandas.io.formats.style.Styler at 0x7f9b5b2d5240>"
            ]
          },
          "metadata": {
            "tags": []
          },
          "execution_count": 11
        }
      ]
    },
    {
      "cell_type": "code",
      "metadata": {
        "id": "sPaNS-5TXsa7",
        "colab": {
          "base_uri": "https://localhost:8080/"
        },
        "outputId": "3b1de5af-324d-45c1-e333-c4904ef28c8c"
      },
      "source": [
        "x_train, y_train, _ = split_data(train, test, ['Sex', 'Pclass', 'Embarked', 'Master'])\n",
        "\n",
        "mdl = get_mdl()\n",
        "\n",
        "pool = catboost.Pool(x_train, y_train, cat_features = [0, 2])\n",
        "show_cv_score(pool, mdl)"
      ],
      "execution_count": 12,
      "outputs": [
        {
          "output_type": "stream",
          "text": [
            "CV score: 0.8293434343434345\n"
          ],
          "name": "stdout"
        }
      ]
    },
    {
      "cell_type": "markdown",
      "metadata": {
        "id": "N7NhDKqaTzmL"
      },
      "source": [
        "### Adding Surname feature"
      ]
    },
    {
      "cell_type": "code",
      "metadata": {
        "id": "zWFDN59rT15a",
        "colab": {
          "base_uri": "https://localhost:8080/",
          "height": 382
        },
        "outputId": "57bbc9e1-b789-4d9b-a424-d85a86e6fece"
      },
      "source": [
        "def process_surname(df_tr, df_te):\n",
        "    df_tr['Surname'] = df_tr.Name.str.split(',').str[0]\n",
        "    df_te['Surname'] = df_te.Name.str.split(',').str[0]\n",
        "    return df_tr, df_te\n",
        "\n",
        "train, test = get_raw_data()\n",
        "train, test = process_master(train, test)\n",
        "train, test = process_surname(train, test)\n",
        "\n",
        "pd.pivot_table(train, values = 'Survived', index='Surname')[:15].sort_values('Survived').style.applymap(highlight)"
      ],
      "execution_count": 13,
      "outputs": [
        {
          "output_type": "execute_result",
          "data": {
            "text/html": [
              "<style  type=\"text/css\" >\n",
              "#T_048fb67c_510f_11eb_943e_0242ac1c0002row0_col0,#T_048fb67c_510f_11eb_943e_0242ac1c0002row1_col0,#T_048fb67c_510f_11eb_943e_0242ac1c0002row2_col0,#T_048fb67c_510f_11eb_943e_0242ac1c0002row3_col0,#T_048fb67c_510f_11eb_943e_0242ac1c0002row4_col0,#T_048fb67c_510f_11eb_943e_0242ac1c0002row5_col0,#T_048fb67c_510f_11eb_943e_0242ac1c0002row6_col0,#T_048fb67c_510f_11eb_943e_0242ac1c0002row7_col0,#T_048fb67c_510f_11eb_943e_0242ac1c0002row8_col0{\n",
              "            color:  red;\n",
              "        }#T_048fb67c_510f_11eb_943e_0242ac1c0002row9_col0,#T_048fb67c_510f_11eb_943e_0242ac1c0002row10_col0,#T_048fb67c_510f_11eb_943e_0242ac1c0002row11_col0,#T_048fb67c_510f_11eb_943e_0242ac1c0002row12_col0,#T_048fb67c_510f_11eb_943e_0242ac1c0002row13_col0,#T_048fb67c_510f_11eb_943e_0242ac1c0002row14_col0{\n",
              "            color:  green;\n",
              "        }</style><table id=\"T_048fb67c_510f_11eb_943e_0242ac1c0002\" ><thead>    <tr>        <th class=\"blank level0\" ></th>        <th class=\"col_heading level0 col0\" >Survived</th>    </tr>    <tr>        <th class=\"index_name level0\" >Surname</th>        <th class=\"blank\" ></th>    </tr></thead><tbody>\n",
              "                <tr>\n",
              "                        <th id=\"T_048fb67c_510f_11eb_943e_0242ac1c0002level0_row0\" class=\"row_heading level0 row0\" >Abbing</th>\n",
              "                        <td id=\"T_048fb67c_510f_11eb_943e_0242ac1c0002row0_col0\" class=\"data row0 col0\" >0.000000</td>\n",
              "            </tr>\n",
              "            <tr>\n",
              "                        <th id=\"T_048fb67c_510f_11eb_943e_0242ac1c0002level0_row1\" class=\"row_heading level0 row1\" >Adahl</th>\n",
              "                        <td id=\"T_048fb67c_510f_11eb_943e_0242ac1c0002row1_col0\" class=\"data row1 col0\" >0.000000</td>\n",
              "            </tr>\n",
              "            <tr>\n",
              "                        <th id=\"T_048fb67c_510f_11eb_943e_0242ac1c0002level0_row2\" class=\"row_heading level0 row2\" >Adams</th>\n",
              "                        <td id=\"T_048fb67c_510f_11eb_943e_0242ac1c0002row2_col0\" class=\"data row2 col0\" >0.000000</td>\n",
              "            </tr>\n",
              "            <tr>\n",
              "                        <th id=\"T_048fb67c_510f_11eb_943e_0242ac1c0002level0_row3\" class=\"row_heading level0 row3\" >Ahlin</th>\n",
              "                        <td id=\"T_048fb67c_510f_11eb_943e_0242ac1c0002row3_col0\" class=\"data row3 col0\" >0.000000</td>\n",
              "            </tr>\n",
              "            <tr>\n",
              "                        <th id=\"T_048fb67c_510f_11eb_943e_0242ac1c0002level0_row4\" class=\"row_heading level0 row4\" >Alexander</th>\n",
              "                        <td id=\"T_048fb67c_510f_11eb_943e_0242ac1c0002row4_col0\" class=\"data row4 col0\" >0.000000</td>\n",
              "            </tr>\n",
              "            <tr>\n",
              "                        <th id=\"T_048fb67c_510f_11eb_943e_0242ac1c0002level0_row5\" class=\"row_heading level0 row5\" >Alhomaki</th>\n",
              "                        <td id=\"T_048fb67c_510f_11eb_943e_0242ac1c0002row5_col0\" class=\"data row5 col0\" >0.000000</td>\n",
              "            </tr>\n",
              "            <tr>\n",
              "                        <th id=\"T_048fb67c_510f_11eb_943e_0242ac1c0002level0_row6\" class=\"row_heading level0 row6\" >Ali</th>\n",
              "                        <td id=\"T_048fb67c_510f_11eb_943e_0242ac1c0002row6_col0\" class=\"data row6 col0\" >0.000000</td>\n",
              "            </tr>\n",
              "            <tr>\n",
              "                        <th id=\"T_048fb67c_510f_11eb_943e_0242ac1c0002level0_row7\" class=\"row_heading level0 row7\" >Allum</th>\n",
              "                        <td id=\"T_048fb67c_510f_11eb_943e_0242ac1c0002row7_col0\" class=\"data row7 col0\" >0.000000</td>\n",
              "            </tr>\n",
              "            <tr>\n",
              "                        <th id=\"T_048fb67c_510f_11eb_943e_0242ac1c0002level0_row8\" class=\"row_heading level0 row8\" >Allison</th>\n",
              "                        <td id=\"T_048fb67c_510f_11eb_943e_0242ac1c0002row8_col0\" class=\"data row8 col0\" >0.333333</td>\n",
              "            </tr>\n",
              "            <tr>\n",
              "                        <th id=\"T_048fb67c_510f_11eb_943e_0242ac1c0002level0_row9\" class=\"row_heading level0 row9\" >Abbott</th>\n",
              "                        <td id=\"T_048fb67c_510f_11eb_943e_0242ac1c0002row9_col0\" class=\"data row9 col0\" >0.500000</td>\n",
              "            </tr>\n",
              "            <tr>\n",
              "                        <th id=\"T_048fb67c_510f_11eb_943e_0242ac1c0002level0_row10\" class=\"row_heading level0 row10\" >Abelson</th>\n",
              "                        <td id=\"T_048fb67c_510f_11eb_943e_0242ac1c0002row10_col0\" class=\"data row10 col0\" >0.500000</td>\n",
              "            </tr>\n",
              "            <tr>\n",
              "                        <th id=\"T_048fb67c_510f_11eb_943e_0242ac1c0002level0_row11\" class=\"row_heading level0 row11\" >Allen</th>\n",
              "                        <td id=\"T_048fb67c_510f_11eb_943e_0242ac1c0002row11_col0\" class=\"data row11 col0\" >0.500000</td>\n",
              "            </tr>\n",
              "            <tr>\n",
              "                        <th id=\"T_048fb67c_510f_11eb_943e_0242ac1c0002level0_row12\" class=\"row_heading level0 row12\" >Aks</th>\n",
              "                        <td id=\"T_048fb67c_510f_11eb_943e_0242ac1c0002row12_col0\" class=\"data row12 col0\" >1.000000</td>\n",
              "            </tr>\n",
              "            <tr>\n",
              "                        <th id=\"T_048fb67c_510f_11eb_943e_0242ac1c0002level0_row13\" class=\"row_heading level0 row13\" >Albimona</th>\n",
              "                        <td id=\"T_048fb67c_510f_11eb_943e_0242ac1c0002row13_col0\" class=\"data row13 col0\" >1.000000</td>\n",
              "            </tr>\n",
              "            <tr>\n",
              "                        <th id=\"T_048fb67c_510f_11eb_943e_0242ac1c0002level0_row14\" class=\"row_heading level0 row14\" >Andersen-Jensen</th>\n",
              "                        <td id=\"T_048fb67c_510f_11eb_943e_0242ac1c0002row14_col0\" class=\"data row14 col0\" >1.000000</td>\n",
              "            </tr>\n",
              "    </tbody></table>"
            ],
            "text/plain": [
              "<pandas.io.formats.style.Styler at 0x7f9b3301d438>"
            ]
          },
          "metadata": {
            "tags": []
          },
          "execution_count": 13
        }
      ]
    },
    {
      "cell_type": "code",
      "metadata": {
        "id": "36Ijbs0huu2R",
        "colab": {
          "base_uri": "https://localhost:8080/"
        },
        "outputId": "95b99e9b-6a63-4624-cda4-b7bd0eed0abd"
      },
      "source": [
        "x_train, y_train, _ = split_data(train, test,\n",
        "                                 ['Sex', 'Pclass', 'Embarked', 'Master', 'Surname'])\n",
        "\n",
        "mdl = get_mdl()\n",
        "\n",
        "pool = catboost.Pool(x_train, y_train, cat_features = [0, 2, 4])\n",
        "show_cv_score(pool, mdl)"
      ],
      "execution_count": 14,
      "outputs": [
        {
          "output_type": "stream",
          "text": [
            "CV score: 0.8438383838383838\n"
          ],
          "name": "stdout"
        }
      ]
    },
    {
      "cell_type": "markdown",
      "metadata": {
        "id": "eAU4YKJ6zc-O"
      },
      "source": [
        "### Adding Title feature"
      ]
    },
    {
      "cell_type": "code",
      "metadata": {
        "id": "qgsAiSx4zhem"
      },
      "source": [
        "train_titles_dict = {\n",
        "    'Capt': 'Offical',\n",
        "    'Col': 'Offical',\n",
        "    'Rev': 'Offical',\n",
        "    'Dr': 'Offical',\n",
        "    'Major': 'Offical',\n",
        "    'Don': 'Royalty',\n",
        "    'Jonkheer': 'Royalty',\n",
        "    'Sir': 'Royalty',\n",
        "    'Dona': 'Royalty',\n",
        "    'the Countess': 'Royalty',\n",
        "    'Lady': 'Royalty',\n",
        "    'Master': 'Commoner',\n",
        "    'Miss': 'Commoner',\n",
        "    'Mlle': 'Commoner',\n",
        "    'Mme': 'Commoner',\n",
        "    'Mr': 'Commoner',\n",
        "    'Mrs': 'Commoner',\n",
        "    'Ms': 'Commoner'\n",
        "}\n",
        "\n",
        "def extract_title_from_name(n):\n",
        "    return n.split(',')[1].split('.')[0].strip()\n",
        "    \n",
        "def process_title(df_tr, df_te):\n",
        "    df_tr['Title'] = df_tr.Name.transform(extract_title_from_name).map(train_titles_dict)\n",
        "    df_te['Title'] = df_te.Name.transform(extract_title_from_name).map(train_titles_dict)\n",
        "    return df_tr, df_te"
      ],
      "execution_count": 15,
      "outputs": []
    },
    {
      "cell_type": "code",
      "metadata": {
        "colab": {
          "base_uri": "https://localhost:8080/",
          "height": 126
        },
        "id": "0flEZZRv20GK",
        "outputId": "ce8bc7d8-87b6-4314-c645-f5ac7e90aae1"
      },
      "source": [
        "train, test = get_raw_data()\n",
        "train, test = process_master(train, test)\n",
        "train, test = process_surname(train, test)\n",
        "train, test = process_title(train, test)\n",
        "\n",
        "pd.pivot_table(train, values = 'Survived', index = 'Title').sort_values('Survived').style.applymap(highlight)"
      ],
      "execution_count": 16,
      "outputs": [
        {
          "output_type": "execute_result",
          "data": {
            "text/html": [
              "<style  type=\"text/css\" >\n",
              "#T_278fee8a_510f_11eb_943e_0242ac1c0002row0_col0,#T_278fee8a_510f_11eb_943e_0242ac1c0002row1_col0{\n",
              "            color:  red;\n",
              "        }#T_278fee8a_510f_11eb_943e_0242ac1c0002row2_col0{\n",
              "            color:  green;\n",
              "        }</style><table id=\"T_278fee8a_510f_11eb_943e_0242ac1c0002\" ><thead>    <tr>        <th class=\"blank level0\" ></th>        <th class=\"col_heading level0 col0\" >Survived</th>    </tr>    <tr>        <th class=\"index_name level0\" >Title</th>        <th class=\"blank\" ></th>    </tr></thead><tbody>\n",
              "                <tr>\n",
              "                        <th id=\"T_278fee8a_510f_11eb_943e_0242ac1c0002level0_row0\" class=\"row_heading level0 row0\" >Offical</th>\n",
              "                        <td id=\"T_278fee8a_510f_11eb_943e_0242ac1c0002row0_col0\" class=\"data row0 col0\" >0.277778</td>\n",
              "            </tr>\n",
              "            <tr>\n",
              "                        <th id=\"T_278fee8a_510f_11eb_943e_0242ac1c0002level0_row1\" class=\"row_heading level0 row1\" >Commoner</th>\n",
              "                        <td id=\"T_278fee8a_510f_11eb_943e_0242ac1c0002row1_col0\" class=\"data row1 col0\" >0.384793</td>\n",
              "            </tr>\n",
              "            <tr>\n",
              "                        <th id=\"T_278fee8a_510f_11eb_943e_0242ac1c0002level0_row2\" class=\"row_heading level0 row2\" >Royalty</th>\n",
              "                        <td id=\"T_278fee8a_510f_11eb_943e_0242ac1c0002row2_col0\" class=\"data row2 col0\" >0.600000</td>\n",
              "            </tr>\n",
              "    </tbody></table>"
            ],
            "text/plain": [
              "<pandas.io.formats.style.Styler at 0x7f9b41336e80>"
            ]
          },
          "metadata": {
            "tags": []
          },
          "execution_count": 16
        }
      ]
    },
    {
      "cell_type": "code",
      "metadata": {
        "colab": {
          "base_uri": "https://localhost:8080/"
        },
        "id": "Rwxtbxrv43lI",
        "outputId": "3eb70085-a5f8-4919-a54a-0b727f574dd0"
      },
      "source": [
        "x_train, y_train, _ = split_data(train, test,\n",
        "                                 ['Sex', 'Pclass', 'Embarked', 'Master', 'Surname', 'Title'])\n",
        "\n",
        "mdl = get_mdl(iters = 100)\n",
        "\n",
        "pool = catboost.Pool(x_train, y_train, cat_features = [0, 2, 4, 5])\n",
        "show_cv_score(pool, mdl)"
      ],
      "execution_count": 17,
      "outputs": [
        {
          "output_type": "stream",
          "text": [
            "CV score: 0.8439393939393941\n"
          ],
          "name": "stdout"
        }
      ]
    },
    {
      "cell_type": "markdown",
      "metadata": {
        "id": "mGQG9S8txKZg"
      },
      "source": [
        "## Submission"
      ]
    },
    {
      "cell_type": "code",
      "metadata": {
        "id": "rr9RTxAqxLrC"
      },
      "source": [
        "x_train, y_train, x_test = split_data(train, test, \n",
        "                                      ['Sex', 'Pclass', 'Embarked', 'Master', 'Surname', 'Title'])\n",
        "\n",
        "mdl = get_mdl()\n",
        "mdl.fit(x_train, y_train, cat_features = [0, 2, 4, 5])\n",
        "\n",
        "pred = mdl.predict(x_test).astype('int')"
      ],
      "execution_count": 18,
      "outputs": []
    },
    {
      "cell_type": "code",
      "metadata": {
        "id": "euh-c2g8xpm1"
      },
      "source": [
        "output = pd.DataFrame({\n",
        "    'PassengerId': get_raw_data()[1].PassengerId,\n",
        "    'Survived': pred\n",
        "})\n",
        "output.to_csv('titanic_data/results.csv', index = False)"
      ],
      "execution_count": 19,
      "outputs": []
    }
  ]
}