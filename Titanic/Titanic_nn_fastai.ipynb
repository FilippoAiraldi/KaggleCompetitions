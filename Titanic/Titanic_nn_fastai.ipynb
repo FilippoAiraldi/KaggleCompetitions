{
  "nbformat": 4,
  "nbformat_minor": 0,
  "metadata": {
    "colab": {
      "name": "Titanic_nn_fastai.ipynb",
      "provenance": [],
      "collapsed_sections": []
    },
    "kernelspec": {
      "display_name": "Python 3",
      "name": "python3"
    },
    "accelerator": "GPU"
  },
  "cells": [
    {
      "cell_type": "markdown",
      "metadata": {
        "id": "kqrCOKnf4vL0"
      },
      "source": [
        "# Titanic Dataset Analysis via NN\r\n",
        "Dataset: https://www.kaggle.com/c/titanic/overview <br>\r\n",
        "Useful link: https://docs.fast.ai/tutorial.tabular\r\n",
        "and https://docs.fast.ai/tabular.core.html\r\n"
      ]
    },
    {
      "cell_type": "code",
      "metadata": {
        "id": "TdVj8-SQ4z9Z"
      },
      "source": [
        "!pip install -q kaggle\r\n",
        "\r\n",
        "import os \r\n",
        "os.environ['KAGGLE_USERNAME'] = \"filippoairaldi\"\r\n",
        "os.environ['KAGGLE_KEY'] = \"51aebb4dfedacca5d50c2ab359457daa\" \r\n",
        "\r\n",
        "!mkdir titanic_data\r\n",
        "!kaggle competitions download -c titanic -p titanic_data\r\n",
        "\r\n",
        "!pip install fastai --upgrade\r\n",
        "!pip install nbdev"
      ],
      "execution_count": null,
      "outputs": []
    },
    {
      "cell_type": "code",
      "metadata": {
        "id": "0vpMFq2FMhVl"
      },
      "source": [
        "import re\r\n",
        "import numpy as np\r\n",
        "import pandas as pd\r\n",
        "from fastai.tabular.all import *"
      ],
      "execution_count": 2,
      "outputs": []
    },
    {
      "cell_type": "code",
      "metadata": {
        "id": "0mvZFzHh4-Z_"
      },
      "source": [
        "def get_train_data(): return pd.read_csv('titanic_data/train.csv')\r\n",
        "def get_test_data(): return pd.read_csv('titanic_data/test.csv')"
      ],
      "execution_count": 3,
      "outputs": []
    },
    {
      "cell_type": "markdown",
      "metadata": {
        "id": "iKXiK-nrNR_e"
      },
      "source": [
        "## Pre-processing"
      ]
    },
    {
      "cell_type": "markdown",
      "metadata": {
        "id": "Y9ijjMpIgbRG"
      },
      "source": [
        "### PassengerId"
      ]
    },
    {
      "cell_type": "code",
      "metadata": {
        "id": "P5BbLAwQgj6e"
      },
      "source": [
        "def process_passenger_id(df): # insignificat\r\n",
        "    return df.drop('PassengerId', axis = 1)"
      ],
      "execution_count": 4,
      "outputs": []
    },
    {
      "cell_type": "markdown",
      "metadata": {
        "id": "HHC8c1u6erW6"
      },
      "source": [
        "### Title and Name"
      ]
    },
    {
      "cell_type": "code",
      "metadata": {
        "id": "hvzDBPJTb-e5"
      },
      "source": [
        "titles_dict = {\r\n",
        "    'Capt': 'Offical',\r\n",
        "    'Col': 'Offical',\r\n",
        "    'Rev': 'Offical',\r\n",
        "    'Dr': 'Offical',\r\n",
        "    'Major': 'Offical',\r\n",
        "    'Don': 'Royalty',\r\n",
        "    'Jonkheer': 'Royalty',\r\n",
        "    'Sir': 'Royalty',\r\n",
        "    'Dona': 'Royalty',\r\n",
        "    'the Countess': 'Royalty',\r\n",
        "    'Lady': 'Royalty',\r\n",
        "    'Master': 'Commoner',\r\n",
        "    'Miss': 'Commoner',\r\n",
        "    'Mlle': 'Commoner',\r\n",
        "    'Mme': 'Commoner',\r\n",
        "    'Mr': 'Commoner',\r\n",
        "    'Mrs': 'Commoner',\r\n",
        "    'Ms': 'Commoner'\r\n",
        "}\r\n",
        "\r\n",
        "def process_name(df):\r\n",
        "    def process_name_to_ticket(df):\r\n",
        "        def extract_title_from_name(n):\r\n",
        "            try:\r\n",
        "                return n.split(',')[1].split('.')[0].strip()\r\n",
        "            except:\r\n",
        "                return np.nan\r\n",
        "        df['Title'] = df.Name.transform(extract_title_from_name).map(titles_dict)\r\n",
        "        return df\r\n",
        "\r\n",
        "    def process_children(df):\r\n",
        "        df_train = get_train_data() # must use only train dataset\r\n",
        "        train_max_male_child_age = df_train[df_train.Name.str.contains('Master.')].Age.max()\r\n",
        "        df['IsChild'] = df.Age <= train_max_male_child_age\r\n",
        "        return df\r\n",
        "\r\n",
        "    def process_family(df):\r\n",
        "        def extract_family_name(n):\r\n",
        "            try:\r\n",
        "                return n.split(',')[0]\r\n",
        "            except:\r\n",
        "                np.nan\r\n",
        "\r\n",
        "        df_train = get_train_data() # must use only train dataset\r\n",
        "        train_family_size_dict = df_train.Name.transform(extract_family_name).value_counts().to_dict()\r\n",
        "        families = df.Name.transform(extract_family_name)\r\n",
        "        df['FamilySize'] = df.Name.transform(extract_family_name).map(train_family_size_dict)\r\n",
        "        return df\r\n",
        "\r\n",
        "    df = process_name_to_ticket(df)\r\n",
        "    df = process_children(df)\r\n",
        "    df = process_family(df)\r\n",
        "    return df.drop('Name', axis = 1)"
      ],
      "execution_count": 5,
      "outputs": []
    },
    {
      "cell_type": "markdown",
      "metadata": {
        "id": "NQP6pAjHhT0n"
      },
      "source": [
        "### Ticket"
      ]
    },
    {
      "cell_type": "code",
      "metadata": {
        "id": "RnA5YSfihZE2"
      },
      "source": [
        "def process_ticket(df): # random forest suggested tickets are not influential\r\n",
        "    return df.drop('Ticket', axis = 1)"
      ],
      "execution_count": 6,
      "outputs": []
    },
    {
      "cell_type": "markdown",
      "metadata": {
        "id": "ly4akysRje-v"
      },
      "source": [
        "### Cabin"
      ]
    },
    {
      "cell_type": "code",
      "metadata": {
        "id": "BopAkuEHjgzF"
      },
      "source": [
        "def process_cabin(df):\r\n",
        "    def get_cabin_height(cabin):\r\n",
        "        try:\r\n",
        "            cabin = cabin.replace(' ', '')\r\n",
        "            x = re.search('^([A-Z]+)([0-9]+)', cabin)\r\n",
        "            if x is None:\r\n",
        "                return np.nan\r\n",
        "            return x[1]\r\n",
        "        except:\r\n",
        "            return np.nan\r\n",
        "    def get_cabin_length(cabin):    \r\n",
        "        try:\r\n",
        "            cabin = cabin.replace(' ', '')\r\n",
        "            x = re.search('^([A-Z]+)([0-9]+)', cabin)\r\n",
        "            if x is None:\r\n",
        "                return np.nan\r\n",
        "            return x[2]\r\n",
        "        except:\r\n",
        "            return np.nan\r\n",
        "\r\n",
        "    df['CabinHeight'] = df.Cabin.transform(get_cabin_height)\r\n",
        "    df['CabinLength'] = df.Cabin.transform(get_cabin_length) # seems more important than height\r\n",
        "    return df.drop('Cabin', axis = 1)"
      ],
      "execution_count": 7,
      "outputs": []
    },
    {
      "cell_type": "markdown",
      "metadata": {
        "id": "xJdNiRigt8PG"
      },
      "source": [
        "### Transform to categories or continuous variables"
      ]
    },
    {
      "cell_type": "code",
      "metadata": {
        "id": "gD3cFdAUuMZr"
      },
      "source": [
        "def get_cat_cols():\r\n",
        "    return ['Pclass', 'Sex', 'Embarked', 'Title', 'CabinHeight', 'IsChild']\r\n",
        "\r\n",
        "def get_cont_cols():\r\n",
        "    return ['Age', 'CabinLength', 'Fare', 'Parch', 'SibSp', 'FamilySize']\r\n",
        "\r\n",
        "def get_cols_types():\r\n",
        "    return { \r\n",
        "        'Age': 'float32',\r\n",
        "        'CabinLength': 'float32', # contains NaN, must be float\r\n",
        "        'Fare': 'float32',\r\n",
        "        'Parch': 'uint8',\r\n",
        "        'SibSp': 'uint8',\r\n",
        "        'FamilySize': 'float32', # contains NaN, must be float\r\n",
        "        'Pclass': 'category',\r\n",
        "        'Sex': 'category',\r\n",
        "        'Embarked': 'category',\r\n",
        "        'Title': 'category',\r\n",
        "        'CabinHeight': 'category',\r\n",
        "        'IsChild': 'category'\r\n",
        "        }\r\n",
        "\r\n",
        "def process_df_types(df):\r\n",
        "    if 'Survived' in df.columns:\r\n",
        "        df.Survived = df.Survived.astype('bool')\r\n",
        "\r\n",
        "    df = df.astype(get_cols_types())\r\n",
        "\r\n",
        "    df.Pclass.cat.set_categories([3, 2, 1], ordered = True, inplace = True)\r\n",
        "    df.CabinHeight.cat.set_categories(\r\n",
        "        ['G', 'FG', 'F', 'FE', 'E', 'D', 'C', 'B', 'A'], # A highest\r\n",
        "        ordered = True, inplace = True)\r\n",
        "    return df\r\n",
        "\r\n",
        "# df_shrink_dtypes(df, int2uint = True) helpful function"
      ],
      "execution_count": 8,
      "outputs": []
    },
    {
      "cell_type": "markdown",
      "metadata": {
        "id": "-bSW-gwdBhWW"
      },
      "source": [
        "### Fill missing values\r\n",
        "Fill missing continuous values from the median of the corresponding (sex, title, pclass) group. If no entry is found, the overall median for the column is returned.<br>\r\n",
        "Categorical columns are not filled since NaN is a category itself."
      ]
    },
    {
      "cell_type": "code",
      "metadata": {
        "id": "Y1DtEd_VBm2j"
      },
      "source": [
        "def fill_missing_values(df): \r\n",
        "    df_train = get_train_data() # always use train medians to fill any dataset \r\n",
        "    df_train = process_passenger_id(df_train)\r\n",
        "    df_train = process_name(df_train)\r\n",
        "    df_train = process_ticket(df_train)\r\n",
        "    df_train = process_cabin(df_train)\r\n",
        "    df_train = process_df_types(df_train)\r\n",
        "\r\n",
        "    df.Embarked = df.Embarked.fillna('S') # most occurrent\r\n",
        "\r\n",
        "    cont_cols = get_cont_cols()\r\n",
        "    overall_train_median_dict = { c: df_train[c].median() for c in cont_cols }\r\n",
        "\r\n",
        "    grouping_cols = ['Sex', 'Pclass', 'Title']\r\n",
        "    df_train = df_train.groupby(grouping_cols).median().reset_index()\r\n",
        "    df_train = df_train[grouping_cols + cont_cols]\r\n",
        "\r\n",
        "    def first_or_default(arr, default):\r\n",
        "        if arr.shape[0] == 0 or np.isnan(arr[0]):\r\n",
        "            return default\r\n",
        "        return arr[0]\r\n",
        "\r\n",
        "    def fill_row_values(row):\r\n",
        "        cond = ((df_train.Sex == row.Sex) &\r\n",
        "                (df_train.Pclass == row.Pclass) &\r\n",
        "                (df_train.Title == row.Title))\r\n",
        "        matches = df_train[cond]\r\n",
        "        for c in cont_cols:\r\n",
        "            if not np.isnan(row[c]):\r\n",
        "                continue\r\n",
        "            val = matches[c].values\r\n",
        "            row[c] = first_or_default(val, overall_train_median_dict[c])\r\n",
        "        return row\r\n",
        "\r\n",
        "    df[cont_cols] = df.apply(fill_row_values, axis = 1)[cont_cols]\r\n",
        "    return df"
      ],
      "execution_count": 9,
      "outputs": []
    },
    {
      "cell_type": "markdown",
      "metadata": {
        "id": "07SojrmVeuW4"
      },
      "source": [
        "### Dividing into train and validation set"
      ]
    },
    {
      "cell_type": "code",
      "metadata": {
        "id": "aDwMSKOHedti"
      },
      "source": [
        "def get_processed_train_data():\r\n",
        "    df = get_train_data()\r\n",
        "    df = process_passenger_id(df)\r\n",
        "    df = process_name(df)\r\n",
        "    df = process_ticket(df)\r\n",
        "    df = process_cabin(df)\r\n",
        "    df = process_df_types(df)\r\n",
        "    df = fill_missing_values(df)\r\n",
        "    return df\r\n",
        "\r\n",
        "def convert_train_df_to_tabular(df):\r\n",
        "    # FillMissing is not gonna really do anything because I manually filled continuous columns\r\n",
        "    return TabularPandas(\r\n",
        "        df,\r\n",
        "        procs = [Categorify, FillMissing, Normalize],\r\n",
        "        cat_names = get_cat_cols(),\r\n",
        "        cont_names = get_cont_cols(),\r\n",
        "        y_names = 'Survived',\r\n",
        "        y_block = CategoryBlock(),\r\n",
        "        splits = RandomSplitter(valid_pct = 0.33)(range_of(df)))\r\n",
        "\r\n",
        "def get_train_to():\r\n",
        "    return convert_train_df_to_tabular(get_processed_train_data())"
      ],
      "execution_count": 10,
      "outputs": []
    },
    {
      "cell_type": "markdown",
      "metadata": {
        "id": "GC69NqbjDmto"
      },
      "source": [
        "## Modeling"
      ]
    },
    {
      "cell_type": "code",
      "metadata": {
        "id": "NrB8CZPcC9VY"
      },
      "source": [
        "# thanks to: https://forums.fast.ai/t/solved-reproducibility-where-is-the-randomness-coming-in/31628/4\n",
        "def random_seed(seed_value):\n",
        "    np.random.seed(seed_value) \n",
        "    torch.manual_seed(seed_value) \n",
        "    random.seed(seed_value)"
      ],
      "execution_count": 14,
      "outputs": []
    },
    {
      "cell_type": "code",
      "metadata": {
        "id": "fT4UI_F9Dolr"
      },
      "source": [
        "random_seed(42)\r\n",
        "\r\n",
        "to = get_train_to()\r\n",
        "dls = to.dataloaders(bs = 256)\r\n",
        "\r\n",
        "learn = tabular_learner(dls, metrics = accuracy, layers = [512, 128])"
      ],
      "execution_count": 54,
      "outputs": []
    },
    {
      "cell_type": "code",
      "metadata": {
        "id": "YJfTgHG3Y5sQ",
        "colab": {
          "base_uri": "https://localhost:8080/",
          "height": 301
        },
        "outputId": "8edd7223-d666-4be2-f061-923bdd57f7e3"
      },
      "source": [
        "learn.lr_find()"
      ],
      "execution_count": 55,
      "outputs": [
        {
          "output_type": "display_data",
          "data": {
            "text/html": [
              ""
            ],
            "text/plain": [
              "<IPython.core.display.HTML object>"
            ]
          },
          "metadata": {
            "tags": []
          }
        },
        {
          "output_type": "execute_result",
          "data": {
            "text/plain": [
              "SuggestedLRs(lr_min=0.005754399299621582, lr_steep=0.0005754399462603033)"
            ]
          },
          "metadata": {
            "tags": []
          },
          "execution_count": 55
        },
        {
          "output_type": "display_data",
          "data": {
            "image/png": "[encoded data removed]",
            "text/plain": [
              "<Figure size 432x288 with 1 Axes>"
            ]
          },
          "metadata": {
            "tags": [],
            "needs_background": "light"
          }
        }
      ]
    },
    {
      "cell_type": "code",
      "metadata": {
        "colab": {
          "base_uri": "https://localhost:8080/",
          "height": 1000
        },
        "id": "9-evGB6eFF5C",
        "outputId": "1de605e4-b69f-4114-bed1-8376340c87bc"
      },
      "source": [
        "learn.fit_one_cycle(75, 3e-4)"
      ],
      "execution_count": 56,
      "outputs": [
        {
          "output_type": "display_data",
          "data": {
            "text/html": [
              "<table border=\"1\" class=\"dataframe\">\n",
              "  <thead>\n",
              "    <tr style=\"text-align: left;\">\n",
              "      <th>epoch</th>\n",
              "      <th>train_loss</th>\n",
              "      <th>valid_loss</th>\n",
              "      <th>accuracy</th>\n",
              "      <th>time</th>\n",
              "    </tr>\n",
              "  </thead>\n",
              "  <tbody>\n",
              "    <tr>\n",
              "      <td>0</td>\n",
              "      <td>0.656848</td>\n",
              "      <td>0.685950</td>\n",
              "      <td>0.598639</td>\n",
              "      <td>00:00</td>\n",
              "    </tr>\n",
              "    <tr>\n",
              "      <td>1</td>\n",
              "      <td>0.655382</td>\n",
              "      <td>0.685053</td>\n",
              "      <td>0.598639</td>\n",
              "      <td>00:00</td>\n",
              "    </tr>\n",
              "    <tr>\n",
              "      <td>2</td>\n",
              "      <td>0.652191</td>\n",
              "      <td>0.683441</td>\n",
              "      <td>0.598639</td>\n",
              "      <td>00:00</td>\n",
              "    </tr>\n",
              "    <tr>\n",
              "      <td>3</td>\n",
              "      <td>0.648872</td>\n",
              "      <td>0.681567</td>\n",
              "      <td>0.598639</td>\n",
              "      <td>00:00</td>\n",
              "    </tr>\n",
              "    <tr>\n",
              "      <td>4</td>\n",
              "      <td>0.644448</td>\n",
              "      <td>0.679426</td>\n",
              "      <td>0.598639</td>\n",
              "      <td>00:00</td>\n",
              "    </tr>\n",
              "    <tr>\n",
              "      <td>5</td>\n",
              "      <td>0.639427</td>\n",
              "      <td>0.676745</td>\n",
              "      <td>0.598639</td>\n",
              "      <td>00:00</td>\n",
              "    </tr>\n",
              "    <tr>\n",
              "      <td>6</td>\n",
              "      <td>0.632391</td>\n",
              "      <td>0.673386</td>\n",
              "      <td>0.602041</td>\n",
              "      <td>00:00</td>\n",
              "    </tr>\n",
              "    <tr>\n",
              "      <td>7</td>\n",
              "      <td>0.625182</td>\n",
              "      <td>0.669381</td>\n",
              "      <td>0.602041</td>\n",
              "      <td>00:00</td>\n",
              "    </tr>\n",
              "    <tr>\n",
              "      <td>8</td>\n",
              "      <td>0.615519</td>\n",
              "      <td>0.664863</td>\n",
              "      <td>0.608844</td>\n",
              "      <td>00:00</td>\n",
              "    </tr>\n",
              "    <tr>\n",
              "      <td>9</td>\n",
              "      <td>0.605434</td>\n",
              "      <td>0.659769</td>\n",
              "      <td>0.612245</td>\n",
              "      <td>00:00</td>\n",
              "    </tr>\n",
              "    <tr>\n",
              "      <td>10</td>\n",
              "      <td>0.594044</td>\n",
              "      <td>0.654162</td>\n",
              "      <td>0.632653</td>\n",
              "      <td>00:00</td>\n",
              "    </tr>\n",
              "    <tr>\n",
              "      <td>11</td>\n",
              "      <td>0.582959</td>\n",
              "      <td>0.648244</td>\n",
              "      <td>0.642857</td>\n",
              "      <td>00:00</td>\n",
              "    </tr>\n",
              "    <tr>\n",
              "      <td>12</td>\n",
              "      <td>0.571150</td>\n",
              "      <td>0.642213</td>\n",
              "      <td>0.646259</td>\n",
              "      <td>00:00</td>\n",
              "    </tr>\n",
              "    <tr>\n",
              "      <td>13</td>\n",
              "      <td>0.559047</td>\n",
              "      <td>0.635970</td>\n",
              "      <td>0.653061</td>\n",
              "      <td>00:00</td>\n",
              "    </tr>\n",
              "    <tr>\n",
              "      <td>14</td>\n",
              "      <td>0.548027</td>\n",
              "      <td>0.630065</td>\n",
              "      <td>0.659864</td>\n",
              "      <td>00:00</td>\n",
              "    </tr>\n",
              "    <tr>\n",
              "      <td>15</td>\n",
              "      <td>0.537545</td>\n",
              "      <td>0.624614</td>\n",
              "      <td>0.666667</td>\n",
              "      <td>00:00</td>\n",
              "    </tr>\n",
              "    <tr>\n",
              "      <td>16</td>\n",
              "      <td>0.527354</td>\n",
              "      <td>0.619974</td>\n",
              "      <td>0.673469</td>\n",
              "      <td>00:00</td>\n",
              "    </tr>\n",
              "    <tr>\n",
              "      <td>17</td>\n",
              "      <td>0.517478</td>\n",
              "      <td>0.615881</td>\n",
              "      <td>0.676871</td>\n",
              "      <td>00:00</td>\n",
              "    </tr>\n",
              "    <tr>\n",
              "      <td>18</td>\n",
              "      <td>0.507770</td>\n",
              "      <td>0.613191</td>\n",
              "      <td>0.687075</td>\n",
              "      <td>00:00</td>\n",
              "    </tr>\n",
              "    <tr>\n",
              "      <td>19</td>\n",
              "      <td>0.499456</td>\n",
              "      <td>0.611020</td>\n",
              "      <td>0.697279</td>\n",
              "      <td>00:00</td>\n",
              "    </tr>\n",
              "    <tr>\n",
              "      <td>20</td>\n",
              "      <td>0.490427</td>\n",
              "      <td>0.608634</td>\n",
              "      <td>0.700680</td>\n",
              "      <td>00:00</td>\n",
              "    </tr>\n",
              "    <tr>\n",
              "      <td>21</td>\n",
              "      <td>0.482937</td>\n",
              "      <td>0.607239</td>\n",
              "      <td>0.707483</td>\n",
              "      <td>00:00</td>\n",
              "    </tr>\n",
              "    <tr>\n",
              "      <td>22</td>\n",
              "      <td>0.475911</td>\n",
              "      <td>0.604883</td>\n",
              "      <td>0.717687</td>\n",
              "      <td>00:00</td>\n",
              "    </tr>\n",
              "    <tr>\n",
              "      <td>23</td>\n",
              "      <td>0.469641</td>\n",
              "      <td>0.602447</td>\n",
              "      <td>0.717687</td>\n",
              "      <td>00:00</td>\n",
              "    </tr>\n",
              "    <tr>\n",
              "      <td>24</td>\n",
              "      <td>0.462567</td>\n",
              "      <td>0.597395</td>\n",
              "      <td>0.717687</td>\n",
              "      <td>00:00</td>\n",
              "    </tr>\n",
              "    <tr>\n",
              "      <td>25</td>\n",
              "      <td>0.455693</td>\n",
              "      <td>0.590780</td>\n",
              "      <td>0.724490</td>\n",
              "      <td>00:00</td>\n",
              "    </tr>\n",
              "    <tr>\n",
              "      <td>26</td>\n",
              "      <td>0.450686</td>\n",
              "      <td>0.585086</td>\n",
              "      <td>0.717687</td>\n",
              "      <td>00:00</td>\n",
              "    </tr>\n",
              "    <tr>\n",
              "      <td>27</td>\n",
              "      <td>0.445634</td>\n",
              "      <td>0.578006</td>\n",
              "      <td>0.724490</td>\n",
              "      <td>00:00</td>\n",
              "    </tr>\n",
              "    <tr>\n",
              "      <td>28</td>\n",
              "      <td>0.440503</td>\n",
              "      <td>0.569661</td>\n",
              "      <td>0.741497</td>\n",
              "      <td>00:00</td>\n",
              "    </tr>\n",
              "    <tr>\n",
              "      <td>29</td>\n",
              "      <td>0.434568</td>\n",
              "      <td>0.560832</td>\n",
              "      <td>0.755102</td>\n",
              "      <td>00:00</td>\n",
              "    </tr>\n",
              "    <tr>\n",
              "      <td>30</td>\n",
              "      <td>0.429351</td>\n",
              "      <td>0.552997</td>\n",
              "      <td>0.751701</td>\n",
              "      <td>00:00</td>\n",
              "    </tr>\n",
              "    <tr>\n",
              "      <td>31</td>\n",
              "      <td>0.424591</td>\n",
              "      <td>0.544608</td>\n",
              "      <td>0.761905</td>\n",
              "      <td>00:00</td>\n",
              "    </tr>\n",
              "    <tr>\n",
              "      <td>32</td>\n",
              "      <td>0.420475</td>\n",
              "      <td>0.536539</td>\n",
              "      <td>0.765306</td>\n",
              "      <td>00:00</td>\n",
              "    </tr>\n",
              "    <tr>\n",
              "      <td>33</td>\n",
              "      <td>0.416660</td>\n",
              "      <td>0.528557</td>\n",
              "      <td>0.775510</td>\n",
              "      <td>00:00</td>\n",
              "    </tr>\n",
              "    <tr>\n",
              "      <td>34</td>\n",
              "      <td>0.412578</td>\n",
              "      <td>0.520407</td>\n",
              "      <td>0.782313</td>\n",
              "      <td>00:00</td>\n",
              "    </tr>\n",
              "    <tr>\n",
              "      <td>35</td>\n",
              "      <td>0.409144</td>\n",
              "      <td>0.511932</td>\n",
              "      <td>0.785714</td>\n",
              "      <td>00:00</td>\n",
              "    </tr>\n",
              "    <tr>\n",
              "      <td>36</td>\n",
              "      <td>0.404892</td>\n",
              "      <td>0.502083</td>\n",
              "      <td>0.792517</td>\n",
              "      <td>00:00</td>\n",
              "    </tr>\n",
              "    <tr>\n",
              "      <td>37</td>\n",
              "      <td>0.401185</td>\n",
              "      <td>0.492027</td>\n",
              "      <td>0.792517</td>\n",
              "      <td>00:00</td>\n",
              "    </tr>\n",
              "    <tr>\n",
              "      <td>38</td>\n",
              "      <td>0.397526</td>\n",
              "      <td>0.481277</td>\n",
              "      <td>0.799320</td>\n",
              "      <td>00:00</td>\n",
              "    </tr>\n",
              "    <tr>\n",
              "      <td>39</td>\n",
              "      <td>0.393696</td>\n",
              "      <td>0.469720</td>\n",
              "      <td>0.806122</td>\n",
              "      <td>00:00</td>\n",
              "    </tr>\n",
              "    <tr>\n",
              "      <td>40</td>\n",
              "      <td>0.390499</td>\n",
              "      <td>0.460270</td>\n",
              "      <td>0.802721</td>\n",
              "      <td>00:00</td>\n",
              "    </tr>\n",
              "    <tr>\n",
              "      <td>41</td>\n",
              "      <td>0.387698</td>\n",
              "      <td>0.452260</td>\n",
              "      <td>0.806122</td>\n",
              "      <td>00:00</td>\n",
              "    </tr>\n",
              "    <tr>\n",
              "      <td>42</td>\n",
              "      <td>0.384590</td>\n",
              "      <td>0.446098</td>\n",
              "      <td>0.812925</td>\n",
              "      <td>00:00</td>\n",
              "    </tr>\n",
              "    <tr>\n",
              "      <td>43</td>\n",
              "      <td>0.381539</td>\n",
              "      <td>0.440619</td>\n",
              "      <td>0.809524</td>\n",
              "      <td>00:00</td>\n",
              "    </tr>\n",
              "    <tr>\n",
              "      <td>44</td>\n",
              "      <td>0.378732</td>\n",
              "      <td>0.435926</td>\n",
              "      <td>0.806122</td>\n",
              "      <td>00:00</td>\n",
              "    </tr>\n",
              "    <tr>\n",
              "      <td>45</td>\n",
              "      <td>0.375233</td>\n",
              "      <td>0.432083</td>\n",
              "      <td>0.809524</td>\n",
              "      <td>00:00</td>\n",
              "    </tr>\n",
              "    <tr>\n",
              "      <td>46</td>\n",
              "      <td>0.372310</td>\n",
              "      <td>0.429777</td>\n",
              "      <td>0.809524</td>\n",
              "      <td>00:00</td>\n",
              "    </tr>\n",
              "    <tr>\n",
              "      <td>47</td>\n",
              "      <td>0.369274</td>\n",
              "      <td>0.427154</td>\n",
              "      <td>0.812925</td>\n",
              "      <td>00:00</td>\n",
              "    </tr>\n",
              "    <tr>\n",
              "      <td>48</td>\n",
              "      <td>0.366869</td>\n",
              "      <td>0.425211</td>\n",
              "      <td>0.823129</td>\n",
              "      <td>00:00</td>\n",
              "    </tr>\n",
              "    <tr>\n",
              "      <td>49</td>\n",
              "      <td>0.364511</td>\n",
              "      <td>0.423963</td>\n",
              "      <td>0.819728</td>\n",
              "      <td>00:00</td>\n",
              "    </tr>\n",
              "    <tr>\n",
              "      <td>50</td>\n",
              "      <td>0.361757</td>\n",
              "      <td>0.422934</td>\n",
              "      <td>0.816327</td>\n",
              "      <td>00:00</td>\n",
              "    </tr>\n",
              "    <tr>\n",
              "      <td>51</td>\n",
              "      <td>0.359323</td>\n",
              "      <td>0.421906</td>\n",
              "      <td>0.816327</td>\n",
              "      <td>00:00</td>\n",
              "    </tr>\n",
              "    <tr>\n",
              "      <td>52</td>\n",
              "      <td>0.356703</td>\n",
              "      <td>0.421208</td>\n",
              "      <td>0.812925</td>\n",
              "      <td>00:00</td>\n",
              "    </tr>\n",
              "    <tr>\n",
              "      <td>53</td>\n",
              "      <td>0.353809</td>\n",
              "      <td>0.421083</td>\n",
              "      <td>0.812925</td>\n",
              "      <td>00:00</td>\n",
              "    </tr>\n",
              "    <tr>\n",
              "      <td>54</td>\n",
              "      <td>0.351700</td>\n",
              "      <td>0.420702</td>\n",
              "      <td>0.809524</td>\n",
              "      <td>00:00</td>\n",
              "    </tr>\n",
              "    <tr>\n",
              "      <td>55</td>\n",
              "      <td>0.349786</td>\n",
              "      <td>0.421215</td>\n",
              "      <td>0.809524</td>\n",
              "      <td>00:00</td>\n",
              "    </tr>\n",
              "    <tr>\n",
              "      <td>56</td>\n",
              "      <td>0.347608</td>\n",
              "      <td>0.421652</td>\n",
              "      <td>0.806122</td>\n",
              "      <td>00:00</td>\n",
              "    </tr>\n",
              "    <tr>\n",
              "      <td>57</td>\n",
              "      <td>0.345672</td>\n",
              "      <td>0.422534</td>\n",
              "      <td>0.806122</td>\n",
              "      <td>00:00</td>\n",
              "    </tr>\n",
              "    <tr>\n",
              "      <td>58</td>\n",
              "      <td>0.344276</td>\n",
              "      <td>0.423323</td>\n",
              "      <td>0.806122</td>\n",
              "      <td>00:00</td>\n",
              "    </tr>\n",
              "    <tr>\n",
              "      <td>59</td>\n",
              "      <td>0.342627</td>\n",
              "      <td>0.423974</td>\n",
              "      <td>0.806122</td>\n",
              "      <td>00:00</td>\n",
              "    </tr>\n",
              "    <tr>\n",
              "      <td>60</td>\n",
              "      <td>0.340860</td>\n",
              "      <td>0.424613</td>\n",
              "      <td>0.806122</td>\n",
              "      <td>00:00</td>\n",
              "    </tr>\n",
              "    <tr>\n",
              "      <td>61</td>\n",
              "      <td>0.338633</td>\n",
              "      <td>0.425124</td>\n",
              "      <td>0.799320</td>\n",
              "      <td>00:00</td>\n",
              "    </tr>\n",
              "    <tr>\n",
              "      <td>62</td>\n",
              "      <td>0.336820</td>\n",
              "      <td>0.425485</td>\n",
              "      <td>0.806122</td>\n",
              "      <td>00:00</td>\n",
              "    </tr>\n",
              "    <tr>\n",
              "      <td>63</td>\n",
              "      <td>0.334550</td>\n",
              "      <td>0.426145</td>\n",
              "      <td>0.806122</td>\n",
              "      <td>00:00</td>\n",
              "    </tr>\n",
              "    <tr>\n",
              "      <td>64</td>\n",
              "      <td>0.332744</td>\n",
              "      <td>0.426736</td>\n",
              "      <td>0.795918</td>\n",
              "      <td>00:00</td>\n",
              "    </tr>\n",
              "    <tr>\n",
              "      <td>65</td>\n",
              "      <td>0.331630</td>\n",
              "      <td>0.426726</td>\n",
              "      <td>0.792517</td>\n",
              "      <td>00:00</td>\n",
              "    </tr>\n",
              "    <tr>\n",
              "      <td>66</td>\n",
              "      <td>0.330325</td>\n",
              "      <td>0.426760</td>\n",
              "      <td>0.792517</td>\n",
              "      <td>00:00</td>\n",
              "    </tr>\n",
              "    <tr>\n",
              "      <td>67</td>\n",
              "      <td>0.328965</td>\n",
              "      <td>0.427038</td>\n",
              "      <td>0.792517</td>\n",
              "      <td>00:00</td>\n",
              "    </tr>\n",
              "    <tr>\n",
              "      <td>68</td>\n",
              "      <td>0.328123</td>\n",
              "      <td>0.427363</td>\n",
              "      <td>0.792517</td>\n",
              "      <td>00:00</td>\n",
              "    </tr>\n",
              "    <tr>\n",
              "      <td>69</td>\n",
              "      <td>0.327221</td>\n",
              "      <td>0.427339</td>\n",
              "      <td>0.795918</td>\n",
              "      <td>00:00</td>\n",
              "    </tr>\n",
              "    <tr>\n",
              "      <td>70</td>\n",
              "      <td>0.326230</td>\n",
              "      <td>0.427394</td>\n",
              "      <td>0.792517</td>\n",
              "      <td>00:00</td>\n",
              "    </tr>\n",
              "    <tr>\n",
              "      <td>71</td>\n",
              "      <td>0.324894</td>\n",
              "      <td>0.427463</td>\n",
              "      <td>0.792517</td>\n",
              "      <td>00:00</td>\n",
              "    </tr>\n",
              "    <tr>\n",
              "      <td>72</td>\n",
              "      <td>0.323797</td>\n",
              "      <td>0.427551</td>\n",
              "      <td>0.792517</td>\n",
              "      <td>00:00</td>\n",
              "    </tr>\n",
              "    <tr>\n",
              "      <td>73</td>\n",
              "      <td>0.323229</td>\n",
              "      <td>0.427706</td>\n",
              "      <td>0.792517</td>\n",
              "      <td>00:00</td>\n",
              "    </tr>\n",
              "    <tr>\n",
              "      <td>74</td>\n",
              "      <td>0.322375</td>\n",
              "      <td>0.428029</td>\n",
              "      <td>0.792517</td>\n",
              "      <td>00:00</td>\n",
              "    </tr>\n",
              "  </tbody>\n",
              "</table>"
            ],
            "text/plain": [
              "<IPython.core.display.HTML object>"
            ]
          },
          "metadata": {
            "tags": []
          }
        }
      ]
    },
    {
      "cell_type": "markdown",
      "metadata": {
        "id": "ynZfJiNKY84I"
      },
      "source": [
        "## Submission"
      ]
    },
    {
      "cell_type": "code",
      "metadata": {
        "colab": {
          "base_uri": "https://localhost:8080/",
          "height": 17
        },
        "id": "WpikEGTMlOH8",
        "outputId": "f5da8b2c-aa88-4d96-f325-b2e4cb8b509a"
      },
      "source": [
        "def get_processed_test_data():\n",
        "    df = get_test_data()\n",
        "    df = process_passenger_id(df)\n",
        "    df = process_name(df)\n",
        "    df = process_ticket(df)\n",
        "    df = process_cabin(df)\n",
        "    df = process_df_types(df)\n",
        "    df = fill_missing_values(df)\n",
        "    return df\n",
        "\n",
        "dl_test = learn.dls.test_dl(get_processed_test_data())\n",
        "\n",
        "output = learn.get_preds(dl = dl_test)"
      ],
      "execution_count": null,
      "outputs": [
        {
          "output_type": "display_data",
          "data": {
            "text/html": [
              ""
            ],
            "text/plain": [
              "<IPython.core.display.HTML object>"
            ]
          },
          "metadata": {
            "tags": []
          }
        }
      ]
    },
    {
      "cell_type": "code",
      "metadata": {
        "id": "Fme-EfnZoEM_"
      },
      "source": [
        "survived = output[0][:, 1] >= 0.5 \n",
        "\n",
        "df_output = pd.DataFrame({\n",
        "    'PassengerId': get_test_data().PassengerId,\n",
        "    'Survived': survived\n",
        "})\n",
        "df_output.Survived = df_output.Survived.map(lambda f: 1 if f else 0)\n",
        "df_output.to_csv('titanic_data/results.csv', index = False)"
      ],
      "execution_count": null,
      "outputs": []
    }
  ]
}